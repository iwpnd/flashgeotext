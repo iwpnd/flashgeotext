{
 "cells": [
  {
   "cell_type": "markdown",
   "metadata": {},
   "source": [
    "# flashgeotext\n",
    "\n",
    "Basic example"
   ]
  },
  {
   "cell_type": "code",
   "execution_count": 15,
   "metadata": {},
   "outputs": [],
   "source": [
    "from flashgeotext.geotext import GeoText\n",
    "import json"
   ]
  },
  {
   "cell_type": "code",
   "execution_count": 16,
   "metadata": {},
   "outputs": [
    {
     "name": "stderr",
     "output_type": "stream",
     "text": [
      "2020-02-24 08:46:49.778 | DEBUG    | flashgeotext.lookup:add:163 - cities added to pool\n",
      "2020-02-24 08:46:49.784 | DEBUG    | flashgeotext.lookup:add:163 - countries added to pool\n",
      "2020-02-24 08:46:49.785 | DEBUG    | flashgeotext.lookup:_add_demo_data:194 - demo data loaded for: ['cities', 'countries']\n"
     ]
    }
   ],
   "source": [
    "geotext = GeoText(use_demo_data=True)"
   ]
  },
  {
   "cell_type": "code",
   "execution_count": 17,
   "metadata": {},
   "outputs": [],
   "source": [
    "# https://www.theguardian.com/global-development/2020/feb/24/coronavirus-china-wuhan-lockdown-economy-south-korea-npc-annual-parliament\n",
    "\n",
    "article = \"\"\" \n",
    "Wuhan eases coronavirus lockdown as Xi warns of historic 'crisis'\n",
    "\n",
    "Communist party expected to reveal whether it will delay annual parliamentary session and South Korea reports new spike in cases\n",
    "\n",
    "Wuhan, the centre of the coronavirus outbreak in China, has loosened lockdown measures and several provinces have lowered their emergency alert levels, \n",
    "as top officials sought to assure the public that the virus is being contained.\n",
    "On Monday, China’s National Health Commission reported its highest number of deaths in 11 days, with another 150 dead and 409 new cases, \n",
    "bringing the total number of confirmed cases of Covid-19 in China to 77,150. \n",
    "All but one of the fatalities and 11 of the new infections were in Hubei province, the centre of the outbreak.\n",
    "Officials had delayed the daily announcement of the data, a day after a major speech and meeting held by China’s leader, Xi Jinping. \n",
    "Xi warned the Covid-19 crisis was 'both a crisis and a big test' for the country, according to Xinhua News agency.\n",
    "Xi said the virus was a major public health emergency, which had spread quickly, \n",
    "causing the most extensive and difficult-to-contain infection since the founding of the People’s Republic of China.\n",
    "'The outbreak of novel coronavirus pneumonia will inevitably have a relatively big impact on the economy and society,' Xi said, \n",
    "but added that the impact would be temporary and generally manageable.\n",
    "Some observers greeted Monday’s figures with scepticism and as part of efforts to project a sense of control over the crisis. \n",
    "Chinese officials have twice changed the criteria for confirmed infections, making the data harder to parse.\n",
    "\"\"\""
   ]
  },
  {
   "cell_type": "code",
   "execution_count": 18,
   "metadata": {},
   "outputs": [],
   "source": [
    "extract = geotext.extract(article, span_info=False)"
   ]
  },
  {
   "cell_type": "code",
   "execution_count": 19,
   "metadata": {},
   "outputs": [
    {
     "name": "stdout",
     "output_type": "stream",
     "text": [
      "{\n",
      "  \"cities\": {\n",
      "    \"Wuhan\": {\n",
      "      \"count\": 2\n",
      "    }\n",
      "  },\n",
      "  \"countries\": {\n",
      "    \"South Korea\": {\n",
      "      \"count\": 1\n",
      "    },\n",
      "    \"China\": {\n",
      "      \"count\": 5\n",
      "    }\n",
      "  }\n",
      "}\n"
     ]
    }
   ],
   "source": [
    "print(json.dumps(extract, indent=2))"
   ]
  }
 ],
 "metadata": {
  "kernelspec": {
   "display_name": "Python 3 (ipykernel)",
   "language": "python",
   "name": "python3"
  },
  "language_info": {
   "codemirror_mode": {
    "name": "ipython",
    "version": 3
   },
   "file_extension": ".py",
   "mimetype": "text/x-python",
   "name": "python",
   "nbconvert_exporter": "python",
   "pygments_lexer": "ipython3",
   "version": "3.7.7"
  }
 },
 "nbformat": 4,
 "nbformat_minor": 4
}
