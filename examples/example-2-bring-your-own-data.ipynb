{
 "cells": [
  {
   "cell_type": "markdown",
   "metadata": {},
   "source": [
    "# flashgeotext\n",
    "\n",
    "Bring your own data to the party"
   ]
  },
  {
   "cell_type": "code",
   "execution_count": 8,
   "metadata": {},
   "outputs": [],
   "source": [
    "from flashgeotext.geotext import GeoText\n",
    "from flashgeotext.lookup import LookupData, LookupDataPool\n",
    "from flashgeotext.lookup import load_data_from_file\n",
    "import json"
   ]
  },
  {
   "cell_type": "code",
   "execution_count": 2,
   "metadata": {},
   "outputs": [],
   "source": [
    "data_districts = load_data_from_file(\"./data/example-data-berlin-districts.json\")\n",
    "data_boroughs = load_data_from_file(\"./data/example-data-berlin-boroughs.json\")"
   ]
  },
  {
   "cell_type": "code",
   "execution_count": 3,
   "metadata": {},
   "outputs": [],
   "source": [
    "lookup_districts = LookupData(name=\"berlin_districts\", data=data_districts)\n",
    "lookup_boroughs = LookupData(name=\"berlin_boroughs\", data=data_boroughs)"
   ]
  },
  {
   "cell_type": "code",
   "execution_count": 4,
   "metadata": {},
   "outputs": [
    {
     "data": {
      "text/plain": [
       "{'status': 'No errors detected', 'error_count': 0, 'errors': {}}"
      ]
     },
     "execution_count": 4,
     "metadata": {},
     "output_type": "execute_result"
    }
   ],
   "source": [
    "lookup_districts.validate()"
   ]
  },
  {
   "cell_type": "code",
   "execution_count": 12,
   "metadata": {},
   "outputs": [],
   "source": [
    "config = GeoTextConfiguration(**{\"use_demo_data\":False})\n",
    "geotext = GeoText(config)\n",
    "geotext.add(lookup_districts)"
   ]
  },
  {
   "cell_type": "code",
   "execution_count": 13,
   "metadata": {},
   "outputs": [
    {
     "data": {
      "text/plain": [
       "1"
      ]
     },
     "execution_count": 13,
     "metadata": {},
     "output_type": "execute_result"
    }
   ],
   "source": [
    "len(geotext.pool)"
   ]
  },
  {
   "cell_type": "code",
   "execution_count": 14,
   "metadata": {},
   "outputs": [],
   "source": [
    "geotext.add(lookup_boroughs)"
   ]
  },
  {
   "cell_type": "code",
   "execution_count": 15,
   "metadata": {},
   "outputs": [
    {
     "data": {
      "text/plain": [
       "2"
      ]
     },
     "execution_count": 15,
     "metadata": {},
     "output_type": "execute_result"
    }
   ],
   "source": [
    "len(geotext.pool)"
   ]
  },
  {
   "cell_type": "code",
   "execution_count": 16,
   "metadata": {},
   "outputs": [],
   "source": [
    "article = \"\"\"\n",
    "In Ost-Berlin wurden ab 1965 keine Ortsteile mehr ausgewiesen, \n",
    "bei der Bildung der neuen Stadtbezirke ab 1979 wurde auch keine Rücksicht auf die früheren Ortsteilgrenzen genommen. \n",
    "Erst nach der Einheit wurden die alten Ortsteile – angepasst an die geänderten Bezirksgrenzen – wieder eingerichtet, \n",
    "dabei kam es zu der besonderen Situation, dass es den Ortsteil Malchow zweifach gab – im Bezirk Hohenschönhausen ebenso wie im Bezirk Weißensee. \n",
    "Letzterer wurde dann 2001 in Stadtrandsiedlung Malchow umbenannt. \n",
    "In den 1920 festgelegten Ortsteilen spiegelte sich im Wesentlichen die im Mittelalter entstandene Siedlungsstruktur der Dörfer wider. \n",
    "Mehrere der Änderungen seit 2001 reagieren pragmatisch auf den massenhaften Bau neuer Wohnungen im Rahmen von Hochhaussiedlungen zwischen 1961 und 1989. \n",
    "Dies betrifft in West-Berlin neben dem Hansaviertel (1960) die Gropiusstadt und das Märkische Viertel. \n",
    "Die umfangreichere Neubautätigkeit in Ost-Berlin hatte dagegen schon seit den späten 1970er Jahren zu Bezirksneubildungen geführt \n",
    "(Marzahn, Hellersdorf, Hohenschönhausen). 2012 wurde Borsigwalde, vormals Ortslage in Wittenau, \n",
    "zu einem eigenständigen Ortsteil des Bezirks Reinickendorf erklärt und damit der 96. Ortsteil Berlins.\n",
    "\"\"\""
   ]
  },
  {
   "cell_type": "code",
   "execution_count": 17,
   "metadata": {},
   "outputs": [],
   "source": [
    "extract = geotext.extract(article)"
   ]
  },
  {
   "cell_type": "code",
   "execution_count": 18,
   "metadata": {},
   "outputs": [
    {
     "name": "stdout",
     "output_type": "stream",
     "text": [
      "{\n",
      "  \"berlin_districts\": {\n",
      "    \"Lichtenberg\": {\n",
      "      \"count\": 1,\n",
      "      \"span_info\": [\n",
      "        [\n",
      "          364,\n",
      "          371\n",
      "        ]\n",
      "      ],\n",
      "      \"found_as\": [\n",
      "        \"Malchow\"\n",
      "      ]\n",
      "    },\n",
      "    \"Pankow\": {\n",
      "      \"count\": 2,\n",
      "      \"span_info\": [\n",
      "        [\n",
      "          435,\n",
      "          444\n",
      "        ],\n",
      "        [\n",
      "          476,\n",
      "          501\n",
      "        ]\n",
      "      ],\n",
      "      \"found_as\": [\n",
      "        \"Weißensee\",\n",
      "        \"Stadtrandsiedlung Malchow\"\n",
      "      ]\n",
      "    },\n",
      "    \"Mitte\": {\n",
      "      \"count\": 1,\n",
      "      \"span_info\": [\n",
      "        [\n",
      "          842,\n",
      "          854\n",
      "        ]\n",
      "      ],\n",
      "      \"found_as\": [\n",
      "        \"Hansaviertel\"\n",
      "      ]\n",
      "    },\n",
      "    \"Neukölln\": {\n",
      "      \"count\": 1,\n",
      "      \"span_info\": [\n",
      "        [\n",
      "          866,\n",
      "          878\n",
      "        ]\n",
      "      ],\n",
      "      \"found_as\": [\n",
      "        \"Gropiusstadt\"\n",
      "      ]\n",
      "    },\n",
      "    \"Marzahn-Hellersdorf\": {\n",
      "      \"count\": 2,\n",
      "      \"span_info\": [\n",
      "        [\n",
      "          1039,\n",
      "          1046\n",
      "        ],\n",
      "        [\n",
      "          1048,\n",
      "          1059\n",
      "        ]\n",
      "      ],\n",
      "      \"found_as\": [\n",
      "        \"Marzahn\",\n",
      "        \"Hellersdorf\"\n",
      "      ]\n",
      "    },\n",
      "    \"Reinickendorf\": {\n",
      "      \"count\": 3,\n",
      "      \"span_info\": [\n",
      "        [\n",
      "          1091,\n",
      "          1102\n",
      "        ],\n",
      "        [\n",
      "          1124,\n",
      "          1132\n",
      "        ],\n",
      "        [\n",
      "          1180,\n",
      "          1193\n",
      "        ]\n",
      "      ],\n",
      "      \"found_as\": [\n",
      "        \"Borsigwalde\",\n",
      "        \"Wittenau\",\n",
      "        \"Reinickendorf\"\n",
      "      ]\n",
      "    }\n",
      "  },\n",
      "  \"berlin_boroughs\": {\n",
      "    \"Malchow\": {\n",
      "      \"count\": 1,\n",
      "      \"span_info\": [\n",
      "        [\n",
      "          364,\n",
      "          371\n",
      "        ]\n",
      "      ],\n",
      "      \"found_as\": [\n",
      "        \"Malchow\"\n",
      "      ]\n",
      "    },\n",
      "    \"Weißensee\": {\n",
      "      \"count\": 1,\n",
      "      \"span_info\": [\n",
      "        [\n",
      "          435,\n",
      "          444\n",
      "        ]\n",
      "      ],\n",
      "      \"found_as\": [\n",
      "        \"Weißensee\"\n",
      "      ]\n",
      "    },\n",
      "    \"Stadtrandsiedlung Malchow\": {\n",
      "      \"count\": 1,\n",
      "      \"span_info\": [\n",
      "        [\n",
      "          476,\n",
      "          501\n",
      "        ]\n",
      "      ],\n",
      "      \"found_as\": [\n",
      "        \"Stadtrandsiedlung Malchow\"\n",
      "      ]\n",
      "    },\n",
      "    \"Hansaviertel\": {\n",
      "      \"count\": 1,\n",
      "      \"span_info\": [\n",
      "        [\n",
      "          842,\n",
      "          854\n",
      "        ]\n",
      "      ],\n",
      "      \"found_as\": [\n",
      "        \"Hansaviertel\"\n",
      "      ]\n",
      "    },\n",
      "    \"Gropiusstadt\": {\n",
      "      \"count\": 1,\n",
      "      \"span_info\": [\n",
      "        [\n",
      "          866,\n",
      "          878\n",
      "        ]\n",
      "      ],\n",
      "      \"found_as\": [\n",
      "        \"Gropiusstadt\"\n",
      "      ]\n",
      "    },\n",
      "    \"Marzahn\": {\n",
      "      \"count\": 1,\n",
      "      \"span_info\": [\n",
      "        [\n",
      "          1039,\n",
      "          1046\n",
      "        ]\n",
      "      ],\n",
      "      \"found_as\": [\n",
      "        \"Marzahn\"\n",
      "      ]\n",
      "    },\n",
      "    \"Hellersdorf\": {\n",
      "      \"count\": 1,\n",
      "      \"span_info\": [\n",
      "        [\n",
      "          1048,\n",
      "          1059\n",
      "        ]\n",
      "      ],\n",
      "      \"found_as\": [\n",
      "        \"Hellersdorf\"\n",
      "      ]\n",
      "    },\n",
      "    \"Borsigwalde\": {\n",
      "      \"count\": 1,\n",
      "      \"span_info\": [\n",
      "        [\n",
      "          1091,\n",
      "          1102\n",
      "        ]\n",
      "      ],\n",
      "      \"found_as\": [\n",
      "        \"Borsigwalde\"\n",
      "      ]\n",
      "    },\n",
      "    \"Wittenau\": {\n",
      "      \"count\": 1,\n",
      "      \"span_info\": [\n",
      "        [\n",
      "          1124,\n",
      "          1132\n",
      "        ]\n",
      "      ],\n",
      "      \"found_as\": [\n",
      "        \"Wittenau\"\n",
      "      ]\n",
      "    },\n",
      "    \"Reinickendorf\": {\n",
      "      \"count\": 1,\n",
      "      \"span_info\": [\n",
      "        [\n",
      "          1180,\n",
      "          1193\n",
      "        ]\n",
      "      ],\n",
      "      \"found_as\": [\n",
      "        \"Reinickendorf\"\n",
      "      ]\n",
      "    }\n",
      "  }\n",
      "}\n"
     ]
    }
   ],
   "source": [
    "print(json.dumps(extract, indent=2,ensure_ascii=False))"
   ]
  }
 ],
 "metadata": {
  "kernelspec": {
   "display_name": "Python 3 (ipykernel)",
   "language": "python",
   "name": "python3"
  },
  "language_info": {
   "codemirror_mode": {
    "name": "ipython",
    "version": 3
   },
   "file_extension": ".py",
   "mimetype": "text/x-python",
   "name": "python",
   "nbconvert_exporter": "python",
   "pygments_lexer": "ipython3",
   "version": "3.7.7"
  }
 },
 "nbformat": 4,
 "nbformat_minor": 4
}
